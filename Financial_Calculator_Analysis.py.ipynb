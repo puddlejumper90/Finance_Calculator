{
 "cells": [
  {
   "cell_type": "code",
   "execution_count": null,
   "metadata": {},
   "outputs": [],
   "source": [
    "#Import the needed libraries\n",
    "import numpy as np\n",
    "import scipy as sp\n",
    "import pandas as pd\n",
    "import pandasql as psql"
   ]
  },
  {
   "cell_type": "code",
   "execution_count": null,
   "metadata": {
    "scrolled": true
   },
   "outputs": [],
   "source": [
    "doc = \"FC_Log.csv\"\n",
    "df = pd.read_csv(doc)\n",
    "df.head()"
   ]
  },
  {
   "cell_type": "code",
   "execution_count": null,
   "metadata": {},
   "outputs": [],
   "source": [
    "#Show the amount of queries per user\n",
    "user_counts = psql.sqldf(\"SELECT user, COUNT(user) as UserCounts FROM df\")\n",
    "user_counts"
   ]
  },
  {
   "cell_type": "code",
   "execution_count": null,
   "metadata": {},
   "outputs": [],
   "source": [
    "#Show total average salary queried by user\n",
    "avr_salary = psql.sqldf(\"SELECT user, AVG(y_salary) as Average_Salary FROM df\")\n",
    "avr_salary"
   ]
  },
  {
   "cell_type": "code",
   "execution_count": null,
   "metadata": {},
   "outputs": [],
   "source": [
    "#Show average savings per user\n",
    "user_savings = psql.sqldf(\"SELECT distinct user, AVG(y_salary) as AverageSalary, AVG(savings) as AverageSavingsPercentage, 12*(AVG(monthly_savings)) as YearlySavings from df Group by user\")\n",
    "user_savings"
   ]
  },
  {
   "cell_type": "code",
   "execution_count": null,
   "metadata": {},
   "outputs": [],
   "source": [
    "#Averages user expenses\n",
    "user_expenses = psql.sqldf(\"SELECT user, AVG(monthly_expenses) as AverageMonthlyExpenses from df group by user\")\n",
    "user_expenses"
   ]
  },
  {
   "cell_type": "code",
   "execution_count": null,
   "metadata": {},
   "outputs": [],
   "source": []
  }
 ],
 "metadata": {
  "kernelspec": {
   "display_name": "Python 3",
   "language": "python",
   "name": "python3"
  },
  "language_info": {
   "codemirror_mode": {
    "name": "ipython",
    "version": 3
   },
   "file_extension": ".py",
   "mimetype": "text/x-python",
   "name": "python",
   "nbconvert_exporter": "python",
   "pygments_lexer": "ipython3",
   "version": "3.7.3"
  }
 },
 "nbformat": 4,
 "nbformat_minor": 2
}
