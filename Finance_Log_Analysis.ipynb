{
 "cells": [
  {
   "cell_type": "markdown",
   "metadata": {},
   "source": [
    "# Notes"
   ]
  },
  {
   "cell_type": "markdown",
   "metadata": {},
   "source": [
    "The finance analysis log needs to be in the same folder as this application in order for this analysis to function properly."
   ]
  },
  {
   "cell_type": "code",
   "execution_count": 1,
   "metadata": {},
   "outputs": [],
   "source": [
    "#Import the needed libraries\n",
    "import numpy as np\n",
    "import scipy as sp\n",
    "import pandas as pd\n",
    "import matplotlib\n",
    "import seaborn as sb"
   ]
  },
  {
   "cell_type": "code",
   "execution_count": 2,
   "metadata": {},
   "outputs": [],
   "source": [
    "#Defined Functions\n",
    "def TBL(): #prints two blank lines\n",
    "    print(\"\")\n",
    "    print(\"\")"
   ]
  },
  {
   "cell_type": "code",
   "execution_count": 3,
   "metadata": {},
   "outputs": [
    {
     "data": {
      "text/html": [
       "<div>\n",
       "<style scoped>\n",
       "    .dataframe tbody tr th:only-of-type {\n",
       "        vertical-align: middle;\n",
       "    }\n",
       "\n",
       "    .dataframe tbody tr th {\n",
       "        vertical-align: top;\n",
       "    }\n",
       "\n",
       "    .dataframe thead th {\n",
       "        text-align: right;\n",
       "    }\n",
       "</style>\n",
       "<table border=\"1\" class=\"dataframe\">\n",
       "  <thead>\n",
       "    <tr style=\"text-align: right;\">\n",
       "      <th></th>\n",
       "      <th>current_time</th>\n",
       "      <th>user</th>\n",
       "      <th>y_salary</th>\n",
       "      <th>y_tax</th>\n",
       "      <th>salary_after_tax</th>\n",
       "      <th>monthly_pay</th>\n",
       "      <th>bi_weekly_pay</th>\n",
       "      <th>savings</th>\n",
       "      <th>savings_calc</th>\n",
       "      <th>salary_after_savings</th>\n",
       "      <th>monthly_savings</th>\n",
       "      <th>monthly_expenses</th>\n",
       "      <th>left_over</th>\n",
       "      <th>note</th>\n",
       "    </tr>\n",
       "  </thead>\n",
       "  <tbody>\n",
       "    <tr>\n",
       "      <th>0</th>\n",
       "      <td>2020-06-11 11:49:07.263342</td>\n",
       "      <td>tdelozie</td>\n",
       "      <td>86400.0</td>\n",
       "      <td>0.22</td>\n",
       "      <td>67392.0</td>\n",
       "      <td>5616.0</td>\n",
       "      <td>2808.0</td>\n",
       "      <td>0.1</td>\n",
       "      <td>6739.2</td>\n",
       "      <td>60652.8</td>\n",
       "      <td>561.6</td>\n",
       "      <td>2500.0</td>\n",
       "      <td>3115.9</td>\n",
       "      <td>baseline</td>\n",
       "    </tr>\n",
       "  </tbody>\n",
       "</table>\n",
       "</div>"
      ],
      "text/plain": [
       "                 current_time      user  y_salary  y_tax  salary_after_tax  \\\n",
       "0  2020-06-11 11:49:07.263342  tdelozie   86400.0   0.22           67392.0   \n",
       "\n",
       "   monthly_pay  bi_weekly_pay  savings  savings_calc  salary_after_savings  \\\n",
       "0       5616.0         2808.0      0.1        6739.2               60652.8   \n",
       "\n",
       "   monthly_savings  monthly_expenses  left_over      note  \n",
       "0            561.6            2500.0     3115.9  baseline  "
      ]
     },
     "execution_count": 3,
     "metadata": {},
     "output_type": "execute_result"
    }
   ],
   "source": [
    "#establish the Log file and validate the data\n",
    "log = 'FC_Log.csv'\n",
    "establish_data = pd.read_csv(log)\n",
    "establish_data.head() #Should show first 5 rows of date, if available"
   ]
  },
  {
   "cell_type": "code",
   "execution_count": 4,
   "metadata": {},
   "outputs": [
    {
     "name": "stdout",
     "output_type": "stream",
     "text": [
      "USER COUNTS:\n",
      "\n",
      "\n",
      "tdelozie    1\n",
      "Name: user, dtype: int64\n"
     ]
    },
    {
     "data": {
      "text/plain": [
       "<matplotlib.axes._subplots.AxesSubplot at 0x7fd4554b0940>"
      ]
     },
     "execution_count": 4,
     "metadata": {},
     "output_type": "execute_result"
    },
    {
     "data": {
      "image/png": "[encoded data removed]",
      "text/plain": [
       "<Figure size 432x288 with 1 Axes>"
      ]
     },
     "metadata": {},
     "output_type": "display_data"
    }
   ],
   "source": [
    "#User Counts\n",
    "print('USER COUNTS:')\n",
    "TBL()\n",
    "data1 = pd.read_csv(log)\n",
    "user_counts = data1.user.value_counts()\n",
    "print(user_counts)\n",
    "user_counts.plot(kind='pie')"
   ]
  },
  {
   "cell_type": "code",
   "execution_count": 5,
   "metadata": {},
   "outputs": [
    {
     "name": "stdout",
     "output_type": "stream",
     "text": [
      "Query Types: \n",
      "\n",
      "\n",
      "baseline    1\n",
      "Name: note, dtype: int64\n"
     ]
    },
    {
     "data": {
      "text/plain": [
       "<matplotlib.axes._subplots.AxesSubplot at 0x7fd45341df40>"
      ]
     },
     "execution_count": 5,
     "metadata": {},
     "output_type": "execute_result"
    },
    {
     "data": {
      "image/png": "[encoded data removed]",
      "text/plain": [
       "<Figure size 432x288 with 1 Axes>"
      ]
     },
     "metadata": {},
     "output_type": "display_data"
    }
   ],
   "source": [
    "#Query Counts by type\n",
    "q_types = data1.note.value_counts()\n",
    "print(\"Query Types: \")\n",
    "TBL()\n",
    "print(q_types)\n",
    "q_types.plot(kind='pie', title='Query Types')"
   ]
  },
  {
   "cell_type": "code",
   "execution_count": null,
   "metadata": {},
   "outputs": [],
   "source": []
  }
 ],
 "metadata": {
  "kernelspec": {
   "display_name": "Python 3",
   "language": "python",
   "name": "python3"
  },
  "language_info": {
   "codemirror_mode": {
    "name": "ipython",
    "version": 3
   },
   "file_extension": ".py",
   "mimetype": "text/x-python",
   "name": "python",
   "nbconvert_exporter": "python",
   "pygments_lexer": "ipython3",
   "version": "3.8.2"
  }
 },
 "nbformat": 4,
 "nbformat_minor": 4
}
